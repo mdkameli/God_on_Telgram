{
 "cells": [
  {
   "cell_type": "code",
   "execution_count": 102,
   "metadata": {
    "scrolled": true
   },
   "outputs": [],
   "source": [
    "import numpy as np\n",
    "import telegram\n",
    "import requests\n",
    "import json \n",
    "import random"
   ]
  },
  {
   "cell_type": "code",
   "execution_count": 110,
   "metadata": {},
   "outputs": [],
   "source": [
    "room_number = '1'\n",
    "roles = {'Godfather' : 1, 'Mafia' : 2, 'Police': 1, 'Doctor': 1, 'Shahrvand': 4}"
   ]
  },
  {
   "cell_type": "code",
   "execution_count": 111,
   "metadata": {},
   "outputs": [],
   "source": [
    "#token that can be generated talking with @BotFather on telegram\n",
    "# my_token = '1010502337:AAGFmbD9z8qhlbaVx9tgcHF77DFsAoqXEmE'\n",
    "my_token = '1205464858:AAGdwrojjEYUYEoFP7C29KThkelf_Y6YGzo'\n",
    "def telegram_bot_sendtext(bot_token, chatID, bot_message):\n",
    "    send_text = 'https://api.telegram.org/bot' + bot_token + '/sendMessage?chat_id=' + chatID + '&parse_mode=Markdown&text=' + bot_message\n",
    "    response = requests.get(send_text)\n",
    "    return response.json()"
   ]
  },
  {
   "cell_type": "markdown",
   "metadata": {},
   "source": [
    "# find players in the room"
   ]
  },
  {
   "cell_type": "code",
   "execution_count": 112,
   "metadata": {},
   "outputs": [
    {
     "name": "stdout",
     "output_type": "stream",
     "text": [
      "message skipped (probably emoji or poll)\n",
      "registered_players_dict=  {'ℳorteza': 121664842, 'Ali': 127646964, 'Pouria': 77086529, 'BMotaghi': 73666871, 'Hani': 105295981, 'Rasool': 575704336, 'Mo': 58420038, 'Adl': 686544001, 'Shahin': 65846134}\n"
     ]
    }
   ],
   "source": [
    "\n",
    "url = f'https://api.telegram.org/bot1205464858:AAGdwrojjEYUYEoFP7C29KThkelf_Y6YGzo/getUpdates'\n",
    "\n",
    "confirmation_msg = [\"جهنم و ضرر، تو هم بازی!\",\n",
    "                    \"باااووووشه\",\n",
    "                    \"همین یک دفه ر باشه\", \n",
    "                    \"اول نمازت ر بخون، بعد بیا بازی!\",\n",
    "                    \"درس و مشهات ر نوشتی اومدی سر بازی؟\" , \n",
    "                    \"اورین به شما!\",\n",
    "                    \"باشه، ولی دسته خرابه دست تو!\",\n",
    "                    \"باشه، ولی درست نیست جلو خدا و پیغمبر خدا ایجور نشستی!\",\n",
    "                    ]\n",
    "# emojie list https://www.unicode.org/emoji/charts/full-emoji-list.html    use like: u'\\U0001F60D'\n",
    "a = requests.post(url).json()\n",
    "updates = a['result']\n",
    "registered_players_dict = {}\n",
    "for update in updates:\n",
    "    v = update\n",
    "    if 'text' in update['message']:\n",
    "#         print('message not skipped')\n",
    "        if update['message']['text']  == room_number:\n",
    "            telegram_bot_sendtext(my_token, str(update['message']['from']['id']), random.choice(confirmation_msg))\n",
    "#             if update['message']['from']['id']== 575704336:\n",
    "#                 telegram_bot_sendtext(my_token, str(update['message']['from']['id']), u'\\U0001F60D')                \n",
    "#             print('new player found in this room')\n",
    "#             print(update['message']['text'])\n",
    "#             print(update['message']['from']['id'])\n",
    "#             print(update['message']['from']['first_name'])\n",
    "            registered_players_dict[update['message']['from']['first_name']] = update['message']['from']['id']\n",
    "    \n",
    "    else:\n",
    "        print('message skipped (probably emoji or poll)')\n",
    "print('registered_players_dict= ', registered_players_dict)\n",
    "if len(registered_players_dict) != sum(roles.values()):\n",
    "    print(80*\"-\",\"\\n Problem: Number of registered players are\",len(registered_players_dict) ,\n",
    "          \" but number of roles are \", sum(roles.values())) "
   ]
  },
  {
   "cell_type": "code",
   "execution_count": 113,
   "metadata": {},
   "outputs": [
    {
     "data": {
      "text/plain": [
       "{'ok': True,\n",
       " 'result': {'message_id': 1144,\n",
       "  'from': {'id': 1205464858,\n",
       "   'is_bot': True,\n",
       "   'first_name': 'mafiagod',\n",
       "   'username': 'KhodaMafiaBot'},\n",
       "  'chat': {'id': 575704336,\n",
       "   'first_name': 'Rasool',\n",
       "   'last_name': 'Heydari',\n",
       "   'username': 'Ras_hej',\n",
       "   'type': 'private'},\n",
       "  'date': 1618690028,\n",
       "  'text': '😍'}}"
      ]
     },
     "execution_count": 113,
     "metadata": {},
     "output_type": "execute_result"
    }
   ],
   "source": [
    "telegram_bot_sendtext(my_token, str(575704336), u'\\U0001F60D')"
   ]
  },
  {
   "cell_type": "markdown",
   "metadata": {},
   "source": [
    "# Roles"
   ]
  },
  {
   "cell_type": "code",
   "execution_count": 114,
   "metadata": {},
   "outputs": [],
   "source": [
    "dict_roles = []\n",
    "for key in roles:\n",
    "    for i in range(roles[key]):\n",
    "        dict_roles.append(key)\n",
    "# print('dict_roles', dict_roles)\n",
    "sum_roles = sum(roles.values())\n",
    "ind_rand = np.random.permutation(sum_roles)\n",
    "roles_assigned = [dict_roles[i] for i in ind_rand]\n",
    "# print('roles_assigned', roles_assigned)"
   ]
  },
  {
   "cell_type": "code",
   "execution_count": 66,
   "metadata": {},
   "outputs": [
    {
     "name": "stdout",
     "output_type": "stream",
     "text": [
      "roles_assigned ['Police', 'Shahrvand', 'Shahrvand', 'Doctor', 'Mafia', 'Godfather', 'Shahrvand', 'Shahrvand']\n",
      "\n"
     ]
    }
   ],
   "source": [
    "# print('roles_assigned', roles_assigned)\n",
    "# print()"
   ]
  },
  {
   "cell_type": "code",
   "execution_count": 115,
   "metadata": {},
   "outputs": [
    {
     "name": "stdout",
     "output_type": "stream",
     "text": [
      "Sending role of  ℳorteza\n",
      "Sending role of  Ali\n",
      "Sending role of  Pouria\n",
      "Sending role of  BMotaghi\n",
      "Sending role of  Hani\n",
      "Sending role of  Rasool\n",
      "Sending role of  Mo\n",
      "Sending role of  Adl\n",
      "Sending role of  Shahin\n"
     ]
    }
   ],
   "source": [
    "for i in range(len(registered_players_dict.keys())):\n",
    "    msg = 'God has assigend {} to be: {}'.format(list(registered_players_dict.keys())[i],\n",
    "                                                 roles_assigned[i])\n",
    "    print('Sending role of ', list(registered_players_dict.keys())[i])\n",
    "#     print(msg)\n",
    "    sent_msg = telegram_bot_sendtext(my_token, str(list(registered_players_dict.values())[i]), msg)\n",
    "    if not sent_msg['ok']:\n",
    "        print('message error for {} - name:{}'.format(i, list(registered_players_dict.keys())[i]))\n",
    "        print(sent_msg)\n",
    "        if sent_msg[\"description\"] == 'Bad Request: chat not found':\n",
    "            print(\"Has not message to the bot yet!\")"
   ]
  },
  {
   "cell_type": "markdown",
   "metadata": {},
   "source": [
    "# Nights"
   ]
  },
  {
   "cell_type": "markdown",
   "metadata": {},
   "source": [
    "## Police"
   ]
  },
  {
   "cell_type": "code",
   "execution_count": 121,
   "metadata": {},
   "outputs": [
    {
     "name": "stdout",
     "output_type": "stream",
     "text": [
      "Done\n"
     ]
    }
   ],
   "source": [
    "a = requests.post(url).json()\n",
    "updates = a['result']\n",
    "#reading all messages with \"police\"/\"Police\"\n",
    "police_messages= []\n",
    "for update in updates:\n",
    "    v = update\n",
    "    if 'text' in update['message']:\n",
    "#         print(update['message']['text'])\n",
    "        if (\"Police\" in update['message']['text']) or (\"police\" in update['message']['text']):\n",
    "            police_messages.append(update['message']['text'])\n",
    "            polic_id = str(update['message']['from']['id'])\n",
    "\n",
    "\n",
    "last_query = police_messages[-1].split(\" \")[-1]\n",
    "role_queried = roles_assigned[list(registered_players_dict.keys()).index(last_query)]\n",
    "if role_queried==\"Mafia\":\n",
    "    msg = last_query + \" is mafia\"\n",
    "else:\n",
    "    msg = last_query + \" is NOT mafia\"\n",
    "        \n",
    "\n",
    "sent_msg = telegram_bot_sendtext(my_token, polic_id, msg)\n",
    "if not sent_msg['ok']:\n",
    "    print('message error for {} - name:{}'.format(i, list(registered_players_dict.keys())[i]))\n",
    "    print(sent_msg)\n",
    "    if sent_msg[\"description\"] == 'Bad Request: chat not found':\n",
    "        print(\"Has not message to the bot yet!\")\n",
    "\n",
    "print(\"Done\")"
   ]
  },
  {
   "cell_type": "markdown",
   "metadata": {},
   "source": [
    "## Doctor"
   ]
  },
  {
   "cell_type": "code",
   "execution_count": 117,
   "metadata": {},
   "outputs": [
    {
     "name": "stdout",
     "output_type": "stream",
     "text": [
      "Done\n"
     ]
    }
   ],
   "source": [
    "a = requests.post(url).json()\n",
    "updates = a['result']\n",
    "#reading all messages with \"police\"/\"Police\"\n",
    "doctor_messages= []\n",
    "for update in updates:\n",
    "    v = update\n",
    "    if 'text' in update['message']:\n",
    "#         print(update['message']['text'])\n",
    "        if (\"Doctor\" in update['message']['text']) or (\"doctor\" in update['message']['text']) or (\"dr\" in update['message']['text']):\n",
    "            doctor_id = str(update['message']['from']['id'])\n",
    "            doctor_messages.append(update['message']['text'])\n",
    "\n",
    "sent_msg = telegram_bot_sendtext(my_token, doctor_id, \"Doctor, done\")            \n",
    "last_saved = doctor_messages[-1].split(\" \")[-1]\n",
    "print(\"Done\")"
   ]
  },
  {
   "cell_type": "markdown",
   "metadata": {},
   "source": [
    "# Mafia"
   ]
  },
  {
   "cell_type": "code",
   "execution_count": 118,
   "metadata": {},
   "outputs": [],
   "source": [
    "a = requests.post(url).json()\n",
    "updates = a['result']\n",
    "#reading all messages with \"police\"/\"Police\"\n",
    "mafia_messages= []\n",
    "for update in updates:\n",
    "    v = update\n",
    "    if 'text' in update['message']:\n",
    "#         print(update['message']['text'])\n",
    "        if (\"Mafia\" in update['message']['text']) or (\"mafia\" in update['message']['text']):\n",
    "            mafia_messages.append(update['message']['text'])\n",
    "            mafia_id = str(update['message']['from']['id'])\n",
    "\n",
    "sent_msg = telegram_bot_sendtext(my_token, mafia_id, \"Mafia, done\")            \n",
    "\n",
    "last_killed = mafia_messages[-1].split(\" \")[-1]"
   ]
  },
  {
   "cell_type": "markdown",
   "metadata": {},
   "source": [
    "# End of round"
   ]
  },
  {
   "cell_type": "code",
   "execution_count": 119,
   "metadata": {},
   "outputs": [],
   "source": [
    "if last_killed == last_saved:\n",
    "    msg = \"No one died last night!\"\n",
    "else:\n",
    "    msg = last_killed + \" died last night!\"    \n",
    "\n",
    "for i in range(len(registered_players_dict.keys())):\n",
    "    sent_msg = telegram_bot_sendtext(my_token, str(list(registered_players_dict.values())[i]), msg)\n",
    "    if not sent_msg['ok']:\n",
    "        print('message error for {} - name:{}'.format(i, list(registered_players_dict.keys())[i]))\n",
    "        print(sent_msg)\n",
    "        if sent_msg[\"description\"] == 'Bad Request: chat not found':\n",
    "            print(\"Has not message to the bot yet!\")"
   ]
  },
  {
   "cell_type": "code",
   "execution_count": 57,
   "metadata": {},
   "outputs": [
    {
     "data": {
      "text/plain": [
       "'127646964'"
      ]
     },
     "execution_count": 57,
     "metadata": {},
     "output_type": "execute_result"
    }
   ],
   "source": [
    "str(list(registered_players_dict.values())[i])"
   ]
  },
  {
   "cell_type": "code",
   "execution_count": 122,
   "metadata": {},
   "outputs": [
    {
     "data": {
      "text/plain": [
       "'Ali'"
      ]
     },
     "execution_count": 122,
     "metadata": {},
     "output_type": "execute_result"
    }
   ],
   "source": [
    "last_killed"
   ]
  },
  {
   "cell_type": "code",
   "execution_count": 123,
   "metadata": {},
   "outputs": [
    {
     "data": {
      "text/plain": [
       "'BMotaghi'"
      ]
     },
     "execution_count": 123,
     "metadata": {},
     "output_type": "execute_result"
    }
   ],
   "source": [
    "last_saved"
   ]
  },
  {
   "cell_type": "code",
   "execution_count": 124,
   "metadata": {},
   "outputs": [
    {
     "data": {
      "text/plain": [
       "'Pouria'"
      ]
     },
     "execution_count": 124,
     "metadata": {},
     "output_type": "execute_result"
    }
   ],
   "source": [
    "last_query"
   ]
  },
  {
   "cell_type": "code",
   "execution_count": 125,
   "metadata": {},
   "outputs": [
    {
     "name": "stdout",
     "output_type": "stream",
     "text": [
      "roles_assigned ['Mafia', 'Shahrvand', 'Shahrvand', 'Doctor', 'Mafia', 'Godfather', 'Shahrvand', 'Police', 'Shahrvand']\n"
     ]
    }
   ],
   "source": [
    "print('roles_assigned', roles_assigned)"
   ]
  },
  {
   "cell_type": "code",
   "execution_count": 127,
   "metadata": {},
   "outputs": [
    {
     "data": {
      "text/plain": [
       "['ℳorteza',\n",
       " 'Ali',\n",
       " 'Pouria',\n",
       " 'BMotaghi',\n",
       " 'Hani',\n",
       " 'Rasool',\n",
       " 'Mo',\n",
       " 'Adl',\n",
       " 'Shahin']"
      ]
     },
     "execution_count": 127,
     "metadata": {},
     "output_type": "execute_result"
    }
   ],
   "source": [
    "list(registered_players_dict.keys())"
   ]
  },
  {
   "cell_type": "code",
   "execution_count": null,
   "metadata": {},
   "outputs": [],
   "source": []
  }
 ],
 "metadata": {
  "kernelspec": {
   "display_name": "Python 3",
   "language": "python",
   "name": "python3"
  },
  "language_info": {
   "codemirror_mode": {
    "name": "ipython",
    "version": 3
   },
   "file_extension": ".py",
   "mimetype": "text/x-python",
   "name": "python",
   "nbconvert_exporter": "python",
   "pygments_lexer": "ipython3",
   "version": "3.7.7"
  },
  "latex_envs": {
   "LaTeX_envs_menu_present": true,
   "autoclose": false,
   "autocomplete": true,
   "bibliofile": "biblio.bib",
   "cite_by": "apalike",
   "current_citInitial": 1,
   "eqLabelWithNumbers": true,
   "eqNumInitial": 1,
   "hotkeys": {
    "equation": "Ctrl-E",
    "itemize": "Ctrl-I"
   },
   "labels_anchors": false,
   "latex_user_defs": false,
   "report_style_numbering": false,
   "user_envs_cfg": false
  },
  "varInspector": {
   "cols": {
    "lenName": 16,
    "lenType": 16,
    "lenVar": 40
   },
   "kernels_config": {
    "python": {
     "delete_cmd_postfix": "",
     "delete_cmd_prefix": "del ",
     "library": "var_list.py",
     "varRefreshCmd": "print(var_dic_list())"
    },
    "r": {
     "delete_cmd_postfix": ") ",
     "delete_cmd_prefix": "rm(",
     "library": "var_list.r",
     "varRefreshCmd": "cat(var_dic_list()) "
    }
   },
   "types_to_exclude": [
    "module",
    "function",
    "builtin_function_or_method",
    "instance",
    "_Feature"
   ],
   "window_display": false
  }
 },
 "nbformat": 4,
 "nbformat_minor": 2
}
